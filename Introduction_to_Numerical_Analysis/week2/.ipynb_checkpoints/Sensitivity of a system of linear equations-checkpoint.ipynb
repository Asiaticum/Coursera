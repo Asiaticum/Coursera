{
 "cells": [
  {
   "cell_type": "markdown",
   "metadata": {},
   "source": [
    "## Solving linear systems in floating point"
   ]
  },
  {
   "cell_type": "markdown",
   "metadata": {},
   "source": [
    "$$\n",
    "    \\mathbf{Ax=b}\n",
    "$$\n",
    "の解は\n",
    "$$\n",
    "    \\mathbf{\\hat{x}}=\\mathbf{A}^{-1}\\mathbf{b}\n",
    "$$\n",
    "で与えられる。しかし、数値計算では丸め誤差によって近似的な解$\\mathbf{x^*}$しか計算することができない。\\\n",
    "$\\mathbf{x^*}$を$\\mathbf{Ax=b}$の近似解であるとすると、したいことは$\\mathbf{x^*}$を真の解$\\mathbf{\\hat{x}}$に近づけることである。\\\n",
    "$$\n",
    "    \\mathbf{e=\\hat{x}-x^*}\\,(Deviation) \\\\\n",
    "    \\mathbf{r=b-Ax^* \\equiv Ae}\\,(Residual)\n",
    "$$\n",
    "Deviationが計算されるためには真の解$\\mathbf{x^*}$がわかっていないといけないが、Residualは近似解のみから評価できるので、通常はResidualを小さくしていくことを考える。"
   ]
  },
  {
   "cell_type": "markdown",
   "metadata": {},
   "source": [
    "## Vector norms\n",
    "ベクトル空間$\\mathbb{R}^m$におけるノルム$\\|\\cdot\\|$とは、$\\forall \\mathbf{x,y} \\in \\mathbb{R}^m,\\forall \\alpha \\in \\mathbb{R}$において\n",
    "$$\n",
    "\\begin{align*}\n",
    "    &1.\\ \\ \\|\\mathbf{x}\\| \\geq 0 \\hspace{15pt} \\rm{and}\\, \\|\\mathbf{x}\\|=0\\, \\rm{iff}\\, \\mathbf{x=0} \\\\\n",
    "    &2.\\ \\ \\|\\alpha \\mathbf{x}\\|=|\\alpha|\\|\\mathbf{x}\\| \\\\\n",
    "    &3.\\ \\ \\|\\mathbf{x+y}\\| \\leq \\|\\mathbf{x}\\|+\\|\\mathbf{y}\\|\n",
    "\\end{align*}\n",
    "$$\n",
    "が満たされるような$\\mathbb{R}^m \\rightarrow \\mathbb{R}$への射影である。"
   ]
  },
  {
   "cell_type": "code",
   "execution_count": null,
   "metadata": {},
   "outputs": [],
   "source": []
  }
 ],
 "metadata": {
  "kernelspec": {
   "display_name": "Python 3",
   "language": "python",
   "name": "python3"
  },
  "language_info": {
   "codemirror_mode": {
    "name": "ipython",
    "version": 3
   },
   "file_extension": ".py",
   "mimetype": "text/x-python",
   "name": "python",
   "nbconvert_exporter": "python",
   "pygments_lexer": "ipython3",
   "version": "3.7.4"
  }
 },
 "nbformat": 4,
 "nbformat_minor": 4
}
