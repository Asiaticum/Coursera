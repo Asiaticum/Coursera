{
 "cells": [
  {
   "cell_type": "markdown",
   "metadata": {},
   "source": [
    "## 1.1.1 A simple worked example"
   ]
  },
  {
   "cell_type": "code",
   "execution_count": 1,
   "metadata": {},
   "outputs": [
    {
     "data": {
      "text/plain": [
       "0.6666666666666666"
      ]
     },
     "execution_count": 1,
     "metadata": {},
     "output_type": "execute_result"
    }
   ],
   "source": [
    "2.0 / 3"
   ]
  },
  {
   "cell_type": "code",
   "execution_count": 2,
   "metadata": {},
   "outputs": [
    {
     "data": {
      "text/plain": [
       "0.0"
      ]
     },
     "execution_count": 2,
     "metadata": {},
     "output_type": "execute_result"
    }
   ],
   "source": [
    "1e20 + 1 - 1e20"
   ]
  },
  {
   "cell_type": "code",
   "execution_count": 3,
   "metadata": {},
   "outputs": [
    {
     "data": {
      "text/plain": [
       "0.001"
      ]
     },
     "execution_count": 3,
     "metadata": {},
     "output_type": "execute_result"
    }
   ],
   "source": [
    "1e-3"
   ]
  },
  {
   "cell_type": "markdown",
   "metadata": {},
   "source": [
    "Using\n",
    "$$\n",
    "    a^2-b^2\\equiv(a+b)(a-b)\n",
    "$$\n",
    "Compare\n",
    "$$\n",
    "    \\frac{1}{\\sqrt{1+x}-\\sqrt{x}}=\\sqrt{1+x}+\\sqrt{x}\n",
    "$$"
   ]
  },
  {
   "cell_type": "code",
   "execution_count": 4,
   "metadata": {},
   "outputs": [],
   "source": [
    "from math import sqrt"
   ]
  },
  {
   "cell_type": "code",
   "execution_count": 5,
   "metadata": {},
   "outputs": [],
   "source": [
    "def func(x):\n",
    "    num = sqrt(1 + x) + sqrt(x)\n",
    "    den = sqrt(1 + x) - sqrt(x)\n",
    "    return 1./den - num"
   ]
  },
  {
   "cell_type": "code",
   "execution_count": 6,
   "metadata": {},
   "outputs": [
    {
     "name": "stdout",
     "output_type": "stream",
     "text": [
      "1e-20 -- 0.0\n",
      "1 -- -4.440892098500626e-16\n",
      "1000.0 -- -7.219114195322618e-12\n",
      "10000000000.0 -- 0.22332640280365013\n"
     ]
    },
    {
     "ename": "ZeroDivisionError",
     "evalue": "float division by zero",
     "output_type": "error",
     "traceback": [
      "\u001b[0;31m---------------------------------------------------------------------------\u001b[0m",
      "\u001b[0;31mZeroDivisionError\u001b[0m                         Traceback (most recent call last)",
      "\u001b[0;32m<ipython-input-6-e2492a53ab04>\u001b[0m in \u001b[0;36m<module>\u001b[0;34m\u001b[0m\n\u001b[1;32m      1\u001b[0m \u001b[0;32mfor\u001b[0m \u001b[0mx\u001b[0m \u001b[0;32min\u001b[0m \u001b[0;34m[\u001b[0m\u001b[0;36m1e-20\u001b[0m\u001b[0;34m,\u001b[0m \u001b[0;36m1\u001b[0m\u001b[0;34m,\u001b[0m \u001b[0;36m1e3\u001b[0m\u001b[0;34m,\u001b[0m \u001b[0;36m1e10\u001b[0m\u001b[0;34m,\u001b[0m \u001b[0;36m1e20\u001b[0m\u001b[0;34m]\u001b[0m\u001b[0;34m:\u001b[0m\u001b[0;34m\u001b[0m\u001b[0;34m\u001b[0m\u001b[0m\n\u001b[0;32m----> 2\u001b[0;31m     \u001b[0mprint\u001b[0m\u001b[0;34m(\u001b[0m\u001b[0mx\u001b[0m\u001b[0;34m,\u001b[0m \u001b[0;34m\"--\"\u001b[0m\u001b[0;34m,\u001b[0m \u001b[0mfunc\u001b[0m\u001b[0;34m(\u001b[0m\u001b[0mx\u001b[0m\u001b[0;34m)\u001b[0m\u001b[0;34m)\u001b[0m\u001b[0;34m\u001b[0m\u001b[0;34m\u001b[0m\u001b[0m\n\u001b[0m",
      "\u001b[0;32m<ipython-input-5-cada9f655039>\u001b[0m in \u001b[0;36mfunc\u001b[0;34m(x)\u001b[0m\n\u001b[1;32m      2\u001b[0m     \u001b[0mnum\u001b[0m \u001b[0;34m=\u001b[0m \u001b[0msqrt\u001b[0m\u001b[0;34m(\u001b[0m\u001b[0;36m1\u001b[0m \u001b[0;34m+\u001b[0m \u001b[0mx\u001b[0m\u001b[0;34m)\u001b[0m \u001b[0;34m+\u001b[0m \u001b[0msqrt\u001b[0m\u001b[0;34m(\u001b[0m\u001b[0mx\u001b[0m\u001b[0;34m)\u001b[0m\u001b[0;34m\u001b[0m\u001b[0;34m\u001b[0m\u001b[0m\n\u001b[1;32m      3\u001b[0m     \u001b[0mden\u001b[0m \u001b[0;34m=\u001b[0m \u001b[0msqrt\u001b[0m\u001b[0;34m(\u001b[0m\u001b[0;36m1\u001b[0m \u001b[0;34m+\u001b[0m \u001b[0mx\u001b[0m\u001b[0;34m)\u001b[0m \u001b[0;34m-\u001b[0m \u001b[0msqrt\u001b[0m\u001b[0;34m(\u001b[0m\u001b[0mx\u001b[0m\u001b[0;34m)\u001b[0m\u001b[0;34m\u001b[0m\u001b[0;34m\u001b[0m\u001b[0m\n\u001b[0;32m----> 4\u001b[0;31m     \u001b[0;32mreturn\u001b[0m \u001b[0;36m1.\u001b[0m\u001b[0;34m/\u001b[0m\u001b[0mden\u001b[0m \u001b[0;34m-\u001b[0m \u001b[0mnum\u001b[0m\u001b[0;34m\u001b[0m\u001b[0;34m\u001b[0m\u001b[0m\n\u001b[0m",
      "\u001b[0;31mZeroDivisionError\u001b[0m: float division by zero"
     ]
    }
   ],
   "source": [
    "for x in [1e-20, 1, 1e3, 1e10, 1e20]:\n",
    "    print(x, \"--\", func(x))"
   ]
  },
  {
   "cell_type": "markdown",
   "metadata": {},
   "source": [
    "## 1.1.2 Machine arithmetics. Representation of real numbers.\n",
    "### 浮動小数点数\n",
    "浮動小数点数は仮数(mantissa)と指数によって表される。\n",
    "仮数とは例えば、\n",
    "$$\n",
    "    m\\times 2^p \\tag{1}\n",
    "$$\n",
    "という式が与えられた時、mが仮数となる。\n",
    "コンピュータでは浮動小数点数は(1)式の形で表される。ただし、仮数$m$は\n",
    "$$\n",
    "    \\frac{1}{2} \\leq |m| < 1\n",
    "$$\n",
    "である。仮数$m$はt桁の二進数で表される。\n",
    "$$\n",
    "    m=\\pm\\mu_{1}\\mu_{2}\\cdots\\mu_{t} \\\\\n",
    "    m=\\pm(\\mu_{1}\\times{2^{-1}}+\\mu_{2}\\times{2^{-2}}+\\cdots+\\mu_{t}\\times{2^{-t}})\n",
    "$$\n",
    "指数$p$は固定幅整数型(fixed-width integer)\n",
    "$$\n",
    "    p=\\gamma_{0}\\gamma_{1}\\gamma_{2}\\cdots\\gamma_{L}\n",
    "$$\n",
    "であり、$\\gamma_{0}$は符号ビットを表す。\n",
    "従って浮動小数点数の二進法による表現は\n",
    "$$\n",
    "    \\pm\\gamma_{0}\\gamma_{1}\\gamma_{2}\\cdots\\gamma_{L}\\mu_{1}\\mu_{2}\\cdots\\mu_{t}\n",
    "$$\n",
    "となる。\n",
    "<div style=\"text-align: center;\">\n",
    "    仮数部の表し方\n",
    "</div>\n",
    "<img src=\"img/mantissa.png\" alt=\"仮数部\" title=\"仮数部\">\n",
    "\n",
    "<div style=\"text-align: center;\">\n",
    "    指数部の表し方\n",
    "</div>\n",
    "<img src=\"img/exponential.png\" alt=\"alt テキスト\" title=\"キャプションテキスト\">\n",
    "\n",
    "指数部はバイアス値$127(=01111111)$を足して考えるので、例えば$2^0(00000000)$を表すときの指数部は$01111111$となる。\n",
    "\n",
    "IEEE754標準では\n",
    "- 32bit単精度 $-$ 23bit仮数，8bit指数，1符号ビット\n",
    "- 64bit倍精度 $-$ 52bit仮数，11bit指数，1符号ビット\n",
    "- 拡張倍精度\n",
    "などがある。\n",
    "\n",
    "### 特別な浮動小数点数\n",
    "- inf(infinities)\n",
    "\n",
    "infは次のように定義される。\n",
    "$$\n",
    "    x < {\\rm inf}\\hspace{15pt}\\forall\\ {\\rm finite}\\ x\n",
    "$$\n",
    "同様に$-$infも定義される。\n",
    "- nan(Not-a-number)\n",
    "\n",
    "nanは次のような場合を指す。\n",
    "$$\n",
    "    x={\\rm nan}\\hspace{15pt}{\\rm iff}\\hspace{15pt}x\\neq x\n",
    "$$\n",
    "nanは例えば$1/0$のような不適切な演算の結果を表す際に用いられる。"
   ]
  },
  {
   "cell_type": "markdown",
   "metadata": {},
   "source": [
    "## 1.1.3 Machine epsilon. Over and underflow.\n",
    "浮動小数点数\n",
    "$$\n",
    "    \\pm\\mu_{1}\\mu_{2}\\cdots\\mu_{t}\\times 2^p\n",
    "$$\n",
    "において、指数$p$を持つ二つの連続した値の距離(差)は\n",
    "$$\n",
    "    2^{p-t}\n",
    "$$\n",
    "となる。したがって、コンピュータでは$2^{p-t}$よりも細かい精度を扱うことはできないので、どんな計算においても丸め誤差が発生してしまう。\n",
    "例えば、1.0を浮動小数点表示すると\n",
    "<div style=\"text-align: center;\">\n",
    "    1.0の浮動小数点表示\n",
    "</div>\n",
    "<img src=\"img/1.png\" alt=\"1.0\" title=\"1.0の浮動小数点表示\">\n",
    "となるが、コンピュータ上で扱えるこの次に大きな数は\n",
    "$$\n",
    "    00111111100000000000000000000001\\ (=2^{-23})\n",
    "$$\n",
    "となる。したがって、このような場合コンピュータは$2^{-23}$よりも細かく数を刻むことはできないので、丸め誤差が生じてしまうこととなる。\n",
    "\n",
    "***\n",
    "### 誤差が生じてしまうような例(60fpsのゲーム)\n",
    "例えば、60fpsのゲームで一日(86400秒)が経過した後のことを考える。\n",
    "86400の指数部は16であるから、コンピュータ上で扱える86400の次に大きな数は\n",
    "$$\n",
    "    2^{16-23}\\ (=0.0078125)\n",
    "$$\n",
    "となる。したがって、60fpsのゲームにおいて86400秒に$1/60(=0.1666666\\cdots)$秒を加算しようとしても、実際には$0.015625(=0.0078125\\times 2)$秒しか加算することができず、誤差がどんどん大きくなってしまう。\n",
    "***\n",
    "\n",
    "丸め誤差の絶対値$2^{p-t}$は指数部$p$に飲み依存するが、丸め誤差の相対値\n",
    "$$\n",
    "    \\simeq\\frac{2^{p-t}}{2^p}=2^{-t}\n",
    "$$\n",
    "は仮数部のbit幅にのみ依存する。\n",
    "\n",
    "<font color=\"Red\">***マシンイプシロン***</font>は\n",
    "$$\n",
    "    1+\\epsilon\\neq1\n",
    "$$\n",
    "となるような最小の数$\\epsilon>0$のことを指す。\n",
    "\n",
    "### Underflow\n",
    "$$\n",
    "    \\pm(\\mu_{1}\\times{2^{-1}}+\\mu_{2}\\times{2^{-2}}+\\cdots+\\mu_{t}\\times{2^{-t}})\\times 2^p\n",
    "$$\n",
    "指数$p$の最大値$p_{max}$は、指数部が$L\\, bit$で表されるとき\n",
    "$$\n",
    "    p_{max}= 2^{L-1}\n",
    "$$\n",
    "となる。したがって、\n",
    "$$\n",
    "    X_0=2^{-p_{max}}\\times 2^{-1}=2^{-p_{max}-1}\n",
    "$$\n",
    "よりも小さな数は浮動小数点数で表記することはできない。実際の計算機では指数部が00000000の時などは特殊な値として扱われるので浮動小数点数で表すことのできる下限値はもう一桁大きい？\n",
    "\n",
    "### Machine zero\n",
    "<font color=\"Red\">***Machine zero***</font>は\n",
    "$$\n",
    "    X_0/2=0\n",
    "$$\n",
    "となるような最小の0でない数$X_0$のことである。\n",
    "通常は\n",
    "$$\n",
    "    X_0 \\ll \\epsilon\n",
    "$$\n",
    "である。\n",
    "\n",
    "### Machine infinity\n",
    "指数の最大値は$p_{max}=2^{L-1}$であるから\n",
    "$$\n",
    "    x>X_{\\infty}=2^{p_{max}}\n",
    "$$\n",
    "となるような$x$を浮動小数点数で表すことはできない。\n",
    "<font color=\"Red\">***Machine infinity***</font>は\n",
    "$$\n",
    "    X_{\\infty}\\times 2\n",
    "$$\n",
    "がオーバーフローをしてしまうような最小の0でない数$X_\\infty$である。"
   ]
  },
  {
   "cell_type": "markdown",
   "metadata": {},
   "source": [
    "## 1.1.4 A crude estimate of the machine epsilon."
   ]
  },
  {
   "cell_type": "code",
   "execution_count": 12,
   "metadata": {},
   "outputs": [
    {
     "name": "stdout",
     "output_type": "stream",
     "text": [
      "1.0\n",
      "0.5\n",
      "0.25\n",
      "0.125\n",
      "0.0625\n",
      "0.03125\n",
      "0.015625\n",
      "0.0078125\n",
      "0.00390625\n",
      "0.001953125\n",
      "0.0009765625\n",
      "0.00048828125\n",
      "0.000244140625\n",
      "0.0001220703125\n",
      "6.103515625e-05\n",
      "3.0517578125e-05\n",
      "1.52587890625e-05\n",
      "7.62939453125e-06\n",
      "3.814697265625e-06\n",
      "1.9073486328125e-06\n",
      "9.5367431640625e-07\n",
      "4.76837158203125e-07\n",
      "2.384185791015625e-07\n",
      "1.1920928955078125e-07\n",
      "32bitの浮動小数点数では1+2^-24は1と同一です。\n"
     ]
    }
   ],
   "source": [
    "import numpy as np\n",
    "\n",
    "eps = 1.0\n",
    "i = 0\n",
    "while np.float32(1 + eps) != 1:\n",
    "    print(eps)\n",
    "    eps = eps / 2\n",
    "    i += 1\n",
    "print(\"32bitの浮動小数点数では1+2^{}は1と同一です。\".format(-i))"
   ]
  },
  {
   "cell_type": "code",
   "execution_count": null,
   "metadata": {},
   "outputs": [],
   "source": []
  }
 ],
 "metadata": {
  "kernelspec": {
   "display_name": "Python 3",
   "language": "python",
   "name": "python3"
  },
  "language_info": {
   "codemirror_mode": {
    "name": "ipython",
    "version": 3
   },
   "file_extension": ".py",
   "mimetype": "text/x-python",
   "name": "python",
   "nbconvert_exporter": "python",
   "pygments_lexer": "ipython3",
   "version": "3.7.4"
  }
 },
 "nbformat": 4,
 "nbformat_minor": 4
}
