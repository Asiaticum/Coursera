{
 "cells": [
  {
   "cell_type": "markdown",
   "metadata": {},
   "source": [
    "# I. $LU$ factorization of a square matrix"
   ]
  },
  {
   "cell_type": "markdown",
   "metadata": {},
   "source": [
    "Consider a simple naive implementation of the LU decomposition. \n",
    "\n",
    "Note that we're using the `numpy` arrays to represent matrices [do **not** use `np.matrix`]."
   ]
  },
  {
   "cell_type": "code",
   "execution_count": 5,
   "metadata": {},
   "outputs": [],
   "source": [
    "import numpy as np\n",
    "\n",
    "def diy_lu(a):\n",
    "    \"\"\"Construct the LU decomposition of the input matrix.\n",
    "    \n",
    "    Naive LU decomposition: work column by column, accumulate elementary triangular matrices.\n",
    "    No pivoting.\n",
    "    \"\"\"\n",
    "    N = a.shape[0]\n",
    "    \n",
    "    u = a.copy()\n",
    "    L = np.eye(N)\n",
    "    for j in range(N-1):\n",
    "        lam = np.eye(N)\n",
    "        gamma = u[j+1:, j] / u[j, j]\n",
    "        lam[j+1:, j] = -gamma\n",
    "        u = lam @ u\n",
    "\n",
    "        lam[j+1:, j] = gamma\n",
    "        L = L @ lam\n",
    "    return L, u"
   ]
  },
  {
   "cell_type": "code",
   "execution_count": 2,
   "metadata": {},
   "outputs": [
    {
     "name": "stdout",
     "output_type": "stream",
     "text": [
      "[[3.         3.         3.         3.         3.         3.        ]\n",
      " [3.         1.875      1.36363636 1.07142857 0.88235294 0.75      ]\n",
      " [3.         1.36363636 0.88235294 0.65217391 0.51724138 0.42857143]\n",
      " [3.         1.07142857 0.65217391 0.46875    0.36585366 0.3       ]\n",
      " [3.         0.88235294 0.51724138 0.36585366 0.28301887 0.23076923]\n",
      " [3.         0.75       0.42857143 0.3        0.23076923 0.1875    ]]\n"
     ]
    }
   ],
   "source": [
    "# Now, generate a full rank matrix and test the naive implementation\n",
    "\n",
    "import numpy as np\n",
    "\n",
    "N = 6\n",
    "a = np.zeros((N, N), dtype=float)\n",
    "for i in range(N):\n",
    "    for j in range(N):\n",
    "        a[i, j] = 3. / (0.6*i*j + 1)\n",
    "\n",
    "np.linalg.matrix_rank(a)\n",
    "print(a)"
   ]
  },
  {
   "cell_type": "code",
   "execution_count": 3,
   "metadata": {},
   "outputs": [],
   "source": [
    "# Tweak the printing of floating-point numbers, for clarity\n",
    "np.set_printoptions(precision=3)"
   ]
  },
  {
   "cell_type": "code",
   "execution_count": 4,
   "metadata": {},
   "outputs": [
    {
     "name": "stdout",
     "output_type": "stream",
     "text": [
      "[[1.    0.    0.    0.    0.    0.   ]\n",
      " [1.    1.    0.    0.    0.    0.   ]\n",
      " [1.    1.455 1.    0.    0.    0.   ]\n",
      " [1.    1.714 1.742 1.    0.    0.   ]\n",
      " [1.    1.882 2.276 2.039 1.    0.   ]\n",
      " [1.    2.    2.671 2.944 2.354 1.   ]] \n",
      "\n",
      "[[ 3.000e+00  3.000e+00  3.000e+00  3.000e+00  3.000e+00  3.000e+00]\n",
      " [ 0.000e+00 -1.125e+00 -1.636e+00 -1.929e+00 -2.118e+00 -2.250e+00]\n",
      " [ 0.000e+00  0.000e+00  2.625e-01  4.574e-01  5.975e-01  7.013e-01]\n",
      " [ 0.000e+00  2.220e-16  0.000e+00 -2.197e-02 -4.480e-02 -6.469e-02]\n",
      " [ 0.000e+00 -4.528e-16  0.000e+00  6.939e-18  8.080e-04  1.902e-03]\n",
      " [ 0.000e+00  4.123e-16  0.000e+00 -1.634e-17  0.000e+00 -1.585e-05]] \n",
      "\n",
      "[[ 0.000e+00  0.000e+00  0.000e+00  0.000e+00  0.000e+00  0.000e+00]\n",
      " [ 0.000e+00  0.000e+00  0.000e+00  0.000e+00  0.000e+00  0.000e+00]\n",
      " [ 0.000e+00  0.000e+00  0.000e+00  2.220e-16 -1.110e-16 -1.665e-16]\n",
      " [ 0.000e+00  0.000e+00  2.220e-16 -5.551e-17 -1.665e-16 -1.665e-16]\n",
      " [ 0.000e+00  0.000e+00 -1.110e-16 -1.665e-16  1.665e-16  5.551e-17]\n",
      " [ 0.000e+00  0.000e+00 -1.665e-16 -1.665e-16  5.551e-17  0.000e+00]]\n"
     ]
    }
   ],
   "source": [
    "L, u = diy_lu(a)\n",
    "\n",
    "print(L, \"\\n\")\n",
    "print(u, \"\\n\")\n",
    "\n",
    "# Quick sanity check: L times U must equal the original matrix, up to floating-point errors.\n",
    "print(L@u - a)"
   ]
  },
  {
   "cell_type": "markdown",
   "metadata": {},
   "source": [
    "# II. The need for pivoting"
   ]
  },
  {
   "cell_type": "markdown",
   "metadata": {},
   "source": [
    "Let's tweak the matrix a little bit, we only change a single element:"
   ]
  },
  {
   "cell_type": "code",
   "execution_count": 6,
   "metadata": {},
   "outputs": [],
   "source": [
    "a1 = a.copy()\n",
    "a1[1, 1] = 3"
   ]
  },
  {
   "cell_type": "markdown",
   "metadata": {},
   "source": [
    "Resulting matix still has full rank, but the naive LU routine breaks down."
   ]
  },
  {
   "cell_type": "code",
   "execution_count": 166,
   "metadata": {},
   "outputs": [
    {
     "data": {
      "text/plain": [
       "6"
      ]
     },
     "execution_count": 166,
     "metadata": {},
     "output_type": "execute_result"
    }
   ],
   "source": [
    "np.linalg.matrix_rank(a1)"
   ]
  },
  {
   "cell_type": "code",
   "execution_count": 167,
   "metadata": {},
   "outputs": [
    {
     "name": "stdout",
     "output_type": "stream",
     "text": [
      "[[nan nan nan nan nan nan]\n",
      " [nan nan nan nan nan nan]\n",
      " [nan nan nan nan nan nan]\n",
      " [nan nan nan nan nan nan]\n",
      " [nan nan nan nan nan nan]\n",
      " [nan nan nan nan nan nan]] [[nan nan nan nan nan nan]\n",
      " [nan nan nan nan nan nan]\n",
      " [nan nan nan nan nan nan]\n",
      " [nan nan nan nan nan nan]\n",
      " [nan nan nan nan nan nan]\n",
      " [nan nan nan nan nan nan]]\n"
     ]
    },
    {
     "name": "stderr",
     "output_type": "stream",
     "text": [
      "C:\\Users\\Joshua Lenge\\AppData\\Local\\Programs\\Python\\Python37-32\\lib\\site-packages\\ipykernel_launcher.py:15: RuntimeWarning: divide by zero encountered in true_divide\n",
      "  from ipykernel import kernelapp as app\n",
      "C:\\Users\\Joshua Lenge\\AppData\\Local\\Programs\\Python\\Python37-32\\lib\\site-packages\\ipykernel_launcher.py:17: RuntimeWarning: invalid value encountered in matmul\n",
      "C:\\Users\\Joshua Lenge\\AppData\\Local\\Programs\\Python\\Python37-32\\lib\\site-packages\\ipykernel_launcher.py:20: RuntimeWarning: invalid value encountered in matmul\n",
      "C:\\Users\\Joshua Lenge\\AppData\\Local\\Programs\\Python\\Python37-32\\lib\\site-packages\\ipykernel_launcher.py:15: RuntimeWarning: invalid value encountered in true_divide\n",
      "  from ipykernel import kernelapp as app\n"
     ]
    }
   ],
   "source": [
    "l, u = diy_lu(a1)\n",
    "\n",
    "print(l, u)"
   ]
  },
  {
   "cell_type": "markdown",
   "metadata": {},
   "source": [
    "### Test II.1\n",
    "\n",
    "For a naive LU decomposition to work, all leading minors of a matrix should be non-zero. Check if this requirement is satisfied for the two matrices `a` and `a1`.\n",
    "\n",
    "(20% of the grade)"
   ]
  },
  {
   "cell_type": "code",
   "execution_count": 12,
   "metadata": {},
   "outputs": [
    {
     "name": "stdout",
     "output_type": "stream",
     "text": [
      "the condition is #True for a\n",
      "the condition is #False for a1\n"
     ]
    }
   ],
   "source": [
    "# ... ENTER YOUR CODE HERE ...\n",
    "\n",
    "\n",
    "def checkLeadingMinors(a):\n",
    "    N = a.shape[0]\n",
    "    \n",
    "    u = a.copy()\n",
    "    L = np.eye(N)\n",
    "    for j in range(N-1):\n",
    "        lam = np.eye(N)\n",
    "        if u[j, j] == 0:   #this line checks for zero elements on the diagonals after every computation\n",
    "            return False\n",
    "        elif u[j, j] != 0:   #this line checks for non-zero elements on the diagonal \n",
    "            gamma = u[j+1:, j] / u[j, j]\n",
    "            lam[j+1:, j] = -gamma\n",
    "            u = lam @ u\n",
    "\n",
    "            lam[j+1:, j] = gamma\n",
    "            L = L @ lam\n",
    "    return True\n",
    "\n",
    "print(f\"the condition is #{checkLeadingMinors(a)} for a\")\n",
    "print(f\"the condition is #{checkLeadingMinors(a1)} for a1\")"
   ]
  },
  {
   "cell_type": "markdown",
   "metadata": {},
   "source": [
    "### Test II.2\n",
    "\n",
    "Modify the `diy_lu` routine to implement column pivoting. Keep track of pivots, you can either construct a permutation matrix, or a swap array (your choice).\n",
    "\n",
    "(40% of the grade)\n",
    "\n",
    "Implement a function to reconstruct the original matrix from a decompositon. Test your routines on the matrices `a` and `a1`.\n",
    "\n",
    "(40% of the grade)"
   ]
  },
  {
   "cell_type": "code",
   "execution_count": 57,
   "metadata": {
    "scrolled": true
   },
   "outputs": [],
   "source": [
    "# ... ENTER YOUR CODE HERE ...\n",
    "\n",
    "\n",
    "def diy_lu(a):\n",
    "    \"\"\"this modified version of the code allows for column swapping\"\"\"\n",
    "    N = a.shape[0]\n",
    "    \n",
    "    u = a.copy()\n",
    "    L = np.eye(N)\n",
    "    swapped_columns = []\n",
    "    for j in range(N-1):\n",
    "        lam = np.eye(N)\n",
    "        if u[j,j] == 0:\n",
    "            \"\"\"this code layer swaps columns with a zero on the pivots\"\"\"\n",
    "            tempCol     = u[:,j+1].copy()\n",
    "            u[:,j+1]    = u[:,j]\n",
    "            u[:,j]      = tempCol\n",
    "            swapped_columns.append((j, j+1))\n",
    "        elif u[j,j] != 0:\n",
    "            pass        \n",
    "        gamma = u[j+1:, j] / u[j, j]\n",
    "        lam[j+1:, j] = -gamma\n",
    "        u = lam @ u\n",
    "        lam[j+1:, j] = gamma\n",
    "        L = L @ lam\n",
    "    return L, u, swapped_columns\n",
    "\n",
    "\n",
    "#function to resonstruct a from L and U\n",
    "def reconstruct(l,u,swapCol):\n",
    "    matA = l@u\n",
    "    sC = swapCol\n",
    "    for i, column_list in zip(range(len(sC)), sC):\n",
    "        temp = matA[:,sC[(len(sC)-1)-i][1]].copy()\n",
    "        matA[:,sC[(len(sC)-1)-i][1]] = matA[:,sC[(len(sC)-1)-i][0]]\n",
    "        matA[:,sC[(len(sC)-1)-i][0]] = temp\n",
    "        \n",
    "    return matA"
   ]
  },
  {
   "cell_type": "code",
   "execution_count": 55,
   "metadata": {},
   "outputs": [
    {
     "name": "stdout",
     "output_type": "stream",
     "text": [
      "\n",
      "this is the diy_lu output for a\n",
      "\n",
      "(array([[1.   , 0.   , 0.   , 0.   , 0.   , 0.   ],\n",
      "       [1.   , 1.   , 0.   , 0.   , 0.   , 0.   ],\n",
      "       [1.   , 1.455, 1.   , 0.   , 0.   , 0.   ],\n",
      "       [1.   , 1.714, 1.742, 1.   , 0.   , 0.   ],\n",
      "       [1.   , 1.882, 2.276, 2.039, 1.   , 0.   ],\n",
      "       [1.   , 2.   , 2.671, 2.944, 2.354, 1.   ]]), array([[ 3.000e+00,  3.000e+00,  3.000e+00,  3.000e+00,  3.000e+00,\n",
      "         3.000e+00],\n",
      "       [ 0.000e+00, -1.125e+00, -1.636e+00, -1.929e+00, -2.118e+00,\n",
      "        -2.250e+00],\n",
      "       [ 0.000e+00,  0.000e+00,  2.625e-01,  4.574e-01,  5.975e-01,\n",
      "         7.013e-01],\n",
      "       [ 0.000e+00,  2.220e-16,  0.000e+00, -2.197e-02, -4.480e-02,\n",
      "        -6.469e-02],\n",
      "       [ 0.000e+00, -4.528e-16,  0.000e+00,  6.939e-18,  8.080e-04,\n",
      "         1.902e-03],\n",
      "       [ 0.000e+00,  4.123e-16,  0.000e+00, -1.634e-17,  0.000e+00,\n",
      "        -1.585e-05]]), [])\n",
      "\n",
      "This is the diy_lu output for a1\n",
      "\n",
      "(array([[1.   , 0.   , 0.   , 0.   , 0.   , 0.   ],\n",
      "       [1.   , 1.   , 0.   , 0.   , 0.   , 0.   ],\n",
      "       [1.   , 1.294, 1.   , 0.   , 0.   , 0.   ],\n",
      "       [1.   , 1.435, 1.179, 1.   , 0.   , 0.   ],\n",
      "       [1.   , 1.517, 1.294, 1.635, 1.   , 0.   ],\n",
      "       [1.   , 1.571, 1.375, 2.07 , 2.082, 1.   ]]), array([[ 3.000e+00,  3.000e+00,  3.000e+00,  3.000e+00,  3.000e+00,\n",
      "         3.000e+00],\n",
      "       [ 0.000e+00, -1.636e+00,  0.000e+00, -1.929e+00, -2.118e+00,\n",
      "        -2.250e+00],\n",
      "       [ 0.000e+00,  0.000e+00, -1.636e+00,  1.480e-01,  2.577e-01,\n",
      "         3.403e-01],\n",
      "       [ 0.000e+00,  0.000e+00,  2.220e-16,  6.143e-02,  1.005e-01,\n",
      "         1.272e-01],\n",
      "       [ 0.000e+00,  0.000e+00, -3.631e-16,  0.000e+00, -1.830e-03,\n",
      "        -3.810e-03],\n",
      "       [ 0.000e+00,  0.000e+00,  2.966e-16,  0.000e+00,  4.337e-19,\n",
      "         2.567e-05]]), [(1, 2)])\n"
     ]
    }
   ],
   "source": [
    "#to show that it wirks, we run the code for a and a1\n",
    "print('\\nthis is the diy_lu output for a\\n')\n",
    "print(diy_lu(a)) #Note: this gives the same result as using the original diy_lu function\n",
    "print('\\nThis is the diy_lu output for a1\\n')\n",
    "print(diy_lu(a1))"
   ]
  },
  {
   "cell_type": "code",
   "execution_count": 59,
   "metadata": {},
   "outputs": [
    {
     "name": "stdout",
     "output_type": "stream",
     "text": [
      "\n",
      "reconstructed version of a\n",
      " [[3.    3.    3.    3.    3.    3.   ]\n",
      " [3.    1.875 1.364 1.071 0.882 0.75 ]\n",
      " [3.    1.364 0.882 0.652 0.517 0.429]\n",
      " [3.    1.071 0.652 0.469 0.366 0.3  ]\n",
      " [3.    0.882 0.517 0.366 0.283 0.231]\n",
      " [3.    0.75  0.429 0.3   0.231 0.188]]\n",
      "\n",
      "reconstructed version of a1\n",
      " [[3.    3.    3.    3.    3.    3.   ]\n",
      " [3.    3.    1.364 1.071 0.882 0.75 ]\n",
      " [3.    1.364 0.882 0.652 0.517 0.429]\n",
      " [3.    1.071 0.652 0.469 0.366 0.3  ]\n",
      " [3.    0.882 0.517 0.366 0.283 0.231]\n",
      " [3.    0.75  0.429 0.3   0.231 0.188]]\n"
     ]
    }
   ],
   "source": [
    "#an implementation of the reconstruct function for a and a1\n",
    "\n",
    "print(\"\\nreconstructed version of a\\n\", reconstruct(diy_lu(a)[0], diy_lu(a)[1], diy_lu(a)[2]))\n",
    "\n",
    "print(\"\\nreconstructed version of a1\\n\", reconstruct(diy_lu(a1)[0], diy_lu(a1)[1], diy_lu(a1)[2]))"
   ]
  },
  {
   "cell_type": "code",
   "execution_count": null,
   "metadata": {},
   "outputs": [],
   "source": []
  }
 ],
 "metadata": {
  "kernelspec": {
   "display_name": "Python 3",
   "language": "python",
   "name": "python3"
  },
  "language_info": {
   "codemirror_mode": {
    "name": "ipython",
    "version": 3
   },
   "file_extension": ".py",
   "mimetype": "text/x-python",
   "name": "python",
   "nbconvert_exporter": "python",
   "pygments_lexer": "ipython3",
   "version": "3.7.0"
  }
 },
 "nbformat": 4,
 "nbformat_minor": 2
}
