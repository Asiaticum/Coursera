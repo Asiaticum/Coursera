{
 "cells": [
  {
   "cell_type": "code",
   "execution_count": 18,
   "metadata": {},
   "outputs": [
    {
     "name": "stdout",
     "output_type": "stream",
     "text": [
      "insert coefficient a 2\n",
      "insert coefficient b 3\n",
      "insert coefficient c 54\n",
      "real and unequal roots  4.812148865321747  and  -6.312148865321747\n"
     ]
    }
   ],
   "source": [
    "import math\n",
    "a=float(input(\"insert coefficient a \"))\n",
    "b=float(input(\"insert coefficient b \"))\n",
    "c=float(input(\"insert coefficient c \"))\n",
    "d=b**2+4*a*c+c;\n",
    "if d>0:\n",
    "    r1 = (-b + math.sqrt(d)) / (2 * a)\n",
    "    r2 = (-b - math.sqrt(d)) / (2 * a)\n",
    "    print(\"real and unequal roots \",r1, \" and \",r2)\n",
    "elif d==0:\n",
    "    r1=-b/(2*a)\n",
    "    print(\"real and same roots \",r1)\n",
    "else:\n",
    "    print(\"No real roots present\")\n"
   ]
  },
  {
   "cell_type": "code",
   "execution_count": null,
   "metadata": {},
   "outputs": [],
   "source": []
  },
  {
   "cell_type": "code",
   "execution_count": 10,
   "metadata": {},
   "outputs": [
    {
     "name": "stdout",
     "output_type": "stream",
     "text": [
      "insert coefficient a 1\n",
      "insert coefficient b 5\n",
      "insert coefficient c 6\n",
      "real and unequal roots  -2.0  and  -3.0\n"
     ]
    }
   ],
   "source": [
    "import math\n",
    "a=float(input(\"insert coefficient a \"))\n",
    "b=float(input(\"insert coefficient b \"))\n",
    "c=float(input(\"insert coefficient c \"))\n",
    "d=b*b-4*a*c;\n",
    "if d>0:\n",
    "    r1 = (-b + math.sqrt(d)) / (2 * a)\n",
    "    r2 = (-b - math.sqrt(d)) / (2 * a)\n",
    "    print(\"real and unequal roots \",r1, \" and \",r2)\n",
    "elif d==0:\n",
    "    r1=-b/(2*a)\n",
    "    print(\"real and same roots \",r1)\n",
    "else:\n",
    "    print(\"No real roots present\")\n"
   ]
  },
  {
   "cell_type": "code",
   "execution_count": null,
   "metadata": {},
   "outputs": [],
   "source": []
  }
 ],
 "metadata": {
  "kernelspec": {
   "display_name": "Python 3",
   "language": "python",
   "name": "python3"
  },
  "language_info": {
   "codemirror_mode": {
    "name": "ipython",
    "version": 3
   },
   "file_extension": ".py",
   "mimetype": "text/x-python",
   "name": "python",
   "nbconvert_exporter": "python",
   "pygments_lexer": "ipython3",
   "version": "3.7.6"
  }
 },
 "nbformat": 4,
 "nbformat_minor": 4
}
